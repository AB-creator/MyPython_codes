{
 "cells": [
  {
   "cell_type": "code",
   "execution_count": null,
   "metadata": {},
   "outputs": [],
   "source": [
    "                        # set() in python\n",
    "# set is a type of data that stores a set of things\n",
    "# set of unique things"
   ]
  },
  {
   "cell_type": "code",
   "execution_count": null,
   "metadata": {},
   "outputs": [],
   "source": [
    "a = set()\n",
    "print(a)"
   ]
  },
  {
   "cell_type": "code",
   "execution_count": null,
   "metadata": {},
   "outputs": [],
   "source": [
    "a.add(1)\n",
    "a.add(2)\n",
    "print(a)"
   ]
  },
  {
   "cell_type": "code",
   "execution_count": null,
   "metadata": {},
   "outputs": [],
   "source": [
    "for x in a:\n",
    "    print(x)"
   ]
  },
  {
   "cell_type": "code",
   "execution_count": null,
   "metadata": {},
   "outputs": [],
   "source": [
    "# remove duplicates from given list\n",
    "given_list = [1,1,2,2,2,55,6,9,9]"
   ]
  },
  {
   "cell_type": "code",
   "execution_count": null,
   "metadata": {},
   "outputs": [],
   "source": [
    "new_set1 = set()\n",
    "for x in given_list:\n",
    "    new_set1.add(x)\n",
    "print(new_set1)"
   ]
  },
  {
   "cell_type": "code",
   "execution_count": null,
   "metadata": {},
   "outputs": [],
   "source": [
    "# create new list and these elements in list\n",
    "new_list1 = list()\n",
    "for x in new_set1:\n",
    "    new_list1.append(x)\n",
    "print(new_list1)"
   ]
  },
  {
   "cell_type": "code",
   "execution_count": 9,
   "metadata": {},
   "outputs": [
    {
     "name": "stdout",
     "output_type": "stream",
     "text": [
      "{1, 'london', 'apple'}\n"
     ]
    }
   ],
   "source": [
    "b = set()        # in set() values are not stored according to sequence \n",
    "b.add('apple')   # whereas in list values are stored in sequence\n",
    "b.add(1)\n",
    "b.add('london')\n",
    "print(b)"
   ]
  },
  {
   "cell_type": "code",
   "execution_count": 8,
   "metadata": {},
   "outputs": [
    {
     "name": "stdout",
     "output_type": "stream",
     "text": [
      "{1, 3, 4}\n",
      "8\n"
     ]
    }
   ],
   "source": [
    "given_list2 = [1, 3, 4, 1, 3]  # find sum of unique elements\n",
    "g = set()\n",
    "for x in given_list2:\n",
    "    g.add(x)\n",
    "total = 0\n",
    "for x in g:\n",
    "    total+=x\n",
    "print(g)\n",
    "print(total)"
   ]
  },
  {
   "cell_type": "code",
   "execution_count": null,
   "metadata": {},
   "outputs": [],
   "source": []
  }
 ],
 "metadata": {
  "kernelspec": {
   "display_name": "Python 3",
   "language": "python",
   "name": "python3"
  },
  "language_info": {
   "codemirror_mode": {
    "name": "ipython",
    "version": 3
   },
   "file_extension": ".py",
   "mimetype": "text/x-python",
   "name": "python",
   "nbconvert_exporter": "python",
   "pygments_lexer": "ipython3",
   "version": "3.7.3"
  }
 },
 "nbformat": 4,
 "nbformat_minor": 2
}
