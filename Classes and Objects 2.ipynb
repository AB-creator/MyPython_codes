{
 "cells": [
  {
   "cell_type": "code",
   "execution_count": 96,
   "metadata": {},
   "outputs": [],
   "source": [
    "class Robot:\n",
    "    # using a custom constructor objects are defined\n",
    "    def __init__(self, n, c, w, o):\n",
    "        self.name = n\n",
    "        self.color = c\n",
    "        self.weight = w\n",
    "        self.owner = o\n",
    "        \n",
    "    def intro_self(self):\n",
    "        print(\"My name is \" + self.name)\n",
    "        print(\"Color = \" + self.color)\n",
    "        print(\"Weight = \"  + self.weight)\n",
    "        print(\"I belong to Master \" + self.owner)\n",
    "        print(\" \")"
   ]
  },
  {
   "cell_type": "code",
   "execution_count": 97,
   "metadata": {},
   "outputs": [],
   "source": [
    "r1 = Robot(\"Jarvis\", \"Red\", \"30\", \"Ben.\")\n",
    "r2 = Robot(\"Veronica\", \"Pink\",\"20\", \"Alice.\" )"
   ]
  },
  {
   "cell_type": "code",
   "execution_count": 98,
   "metadata": {},
   "outputs": [],
   "source": [
    "class Person:\n",
    "    def __init__(self, n, p, i):\n",
    "        self.name1 = n\n",
    "        self.personality = p\n",
    "        self.is_sitting = i\n",
    "        \n",
    "    def sit_down(self):\n",
    "        self.is_sitting = True\n",
    "        \n",
    "    def stand_up(self):\n",
    "        self.is_sitting = False"
   ]
  },
  {
   "cell_type": "code",
   "execution_count": 99,
   "metadata": {},
   "outputs": [],
   "source": [
    "p1 = Person(\"Alice\", \"Nice\", False)\n",
    "p2 = Person(\"Ben\", \"Extrovert\", False)\n"
   ]
  },
  {
   "cell_type": "code",
   "execution_count": 100,
   "metadata": {},
   "outputs": [],
   "source": [
    "# p1 owns r2.....\n",
    "p1.robot_owned = r2\n",
    "p2.robot_owned = r1"
   ]
  },
  {
   "cell_type": "code",
   "execution_count": 101,
   "metadata": {},
   "outputs": [],
   "source": [
    "r1.master = p2\n",
    "r2.master = p1"
   ]
  },
  {
   "cell_type": "code",
   "execution_count": 102,
   "metadata": {},
   "outputs": [
    {
     "name": "stdout",
     "output_type": "stream",
     "text": [
      "My name is Veronica\n",
      "Color = Pink\n",
      "Weight = 20\n",
      "I belong to Master Alice.\n",
      " \n",
      "My name is Jarvis\n",
      "Color = Red\n",
      "Weight = 30\n",
      "I belong to Master Ben.\n",
      " \n"
     ]
    }
   ],
   "source": [
    "p1.robot_owned.intro_self()\n",
    "p2.robot_owned.intro_self()"
   ]
  },
  {
   "cell_type": "code",
   "execution_count": null,
   "metadata": {},
   "outputs": [],
   "source": []
  },
  {
   "cell_type": "code",
   "execution_count": null,
   "metadata": {},
   "outputs": [],
   "source": []
  }
 ],
 "metadata": {
  "kernelspec": {
   "display_name": "Python 3",
   "language": "python",
   "name": "python3"
  },
  "language_info": {
   "codemirror_mode": {
    "name": "ipython",
    "version": 3
   },
   "file_extension": ".py",
   "mimetype": "text/x-python",
   "name": "python",
   "nbconvert_exporter": "python",
   "pygments_lexer": "ipython3",
   "version": "3.7.3"
  }
 },
 "nbformat": 4,
 "nbformat_minor": 2
}
