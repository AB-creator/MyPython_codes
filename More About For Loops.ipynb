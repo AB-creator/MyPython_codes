{
 "cells": [
  {
   "cell_type": "code",
   "execution_count": 1,
   "metadata": {},
   "outputs": [],
   "source": [
    "a = [\"Mumbabi\", \"Nagpur\", \"Pune\"]"
   ]
  },
  {
   "cell_type": "code",
   "execution_count": 24,
   "metadata": {},
   "outputs": [
    {
     "name": "stdout",
     "output_type": "stream",
     "text": [
      "Mumbabi\n",
      "Nagpur\n",
      "Pune\n",
      "['Mumbabi', 'Nagpur', 'Pune']\n",
      "['Mumbabi', 'Nagpur', 'Pune']\n",
      "['Mumbabi', 'Nagpur', 'Pune']\n"
     ]
    }
   ],
   "source": [
    "for i in a:  \n",
    "    print(i)        \n",
    "    \n",
    "for i in range(3):\n",
    "     print(a) "
   ]
  },
  {
   "cell_type": "code",
   "execution_count": 28,
   "metadata": {},
   "outputs": [
    {
     "name": "stdout",
     "output_type": "stream",
     "text": [
      "Mumbabi\n",
      "Nagpur\n",
      "Nagpur\n",
      "Pune\n",
      "Pune\n",
      "Pune\n"
     ]
    }
   ],
   "source": [
    "for i in range(len(a)): # tricks\n",
    "    for j in range(i + 1):\n",
    "        # i=0  -> j=0\n",
    "        # i=1 -> j=0,1\n",
    "        # i=2 -> j=0,1,2\n",
    "                             \n",
    "        print(a[i])"
   ]
  },
  {
   "cell_type": "code",
   "execution_count": 45,
   "metadata": {},
   "outputs": [
    {
     "name": "stdout",
     "output_type": "stream",
     "text": [
      "[1, 2, 3, 4, 5, 6, 7, 8, 9, 10, 11, 12, 13, 14, 15, 16, 17, 18, 19, 20, 21, 22, 23, 24, 25, 26, 27, 28, 29, 30, 31, 32, 33, 34, 35, 36, 37, 38, 39, 40, 41, 42, 43, 44, 45, 46, 47, 48, 49, 50, 51, 52, 53, 54, 55, 56, 57, 58, 59, 60, 61, 62, 63, 64, 65, 66, 67, 68, 69, 70, 71, 72, 73, 74, 75, 76, 77, 78, 79, 80, 81, 82, 83, 84, 85, 86, 87, 88, 89, 90, 91, 92, 93, 94, 95, 96, 97, 98, 99]\n"
     ]
    }
   ],
   "source": [
    "# Tutorial 5 \n",
    "# Can you compute the sum of all multiples of both 3 and 5 that are less than 100?\n",
    "print(list(range(1 , 100)))"
   ]
  },
  {
   "cell_type": "code",
   "execution_count": 48,
   "metadata": {},
   "outputs": [
    {
     "name": "stdout",
     "output_type": "stream",
     "text": [
      "2318\n"
     ]
    }
   ],
   "source": [
    "total = 0\n",
    "for i in range(1 , 100):\n",
    "    if i % 3 == 0 or i % 5 == 0:\n",
    "#      total += i\n",
    "#    elif i % 5 == 0:\n",
    "        total += i\n",
    "print(total)"
   ]
  },
  {
   "cell_type": "code",
   "execution_count": null,
   "metadata": {},
   "outputs": [],
   "source": [
    "given_list = [7, 5, 4, 4, 3, 1, -2, 3, -5, -7]\n",
    "\n",
    "total2 = 0\n",
    "j = len(given_list) - 1 \n",
    "while given_list[j] < 0:\n",
    "    total2 += given_list[j]\n",
    "    j = j - 1\n",
    "print(total2)\n",
    "    "
   ]
  },
  {
   "cell_type": "code",
   "execution_count": null,
   "metadata": {},
   "outputs": [],
   "source": []
  },
  {
   "cell_type": "code",
   "execution_count": null,
   "metadata": {},
   "outputs": [],
   "source": []
  }
 ],
 "metadata": {
  "kernelspec": {
   "display_name": "Python 3",
   "language": "python",
   "name": "python3"
  },
  "language_info": {
   "codemirror_mode": {
    "name": "ipython",
    "version": 3
   },
   "file_extension": ".py",
   "mimetype": "text/x-python",
   "name": "python",
   "nbconvert_exporter": "python",
   "pygments_lexer": "ipython3",
   "version": "3.7.3"
  }
 },
 "nbformat": 4,
 "nbformat_minor": 2
}
